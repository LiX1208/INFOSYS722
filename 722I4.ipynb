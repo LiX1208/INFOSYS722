{
 "cells": [
  {
   "cell_type": "code",
   "execution_count": 1,
   "id": "69935448",
   "metadata": {},
   "outputs": [
    {
     "name": "stderr",
     "output_type": "stream",
     "text": [
      "WARNING: An illegal reflective access operation has occurred\n",
      "WARNING: Illegal reflective access by org.apache.spark.unsafe.Platform (file:/home/ubuntu/spark-3.2.1-bin-hadoop2.7/jars/spark-unsafe_2.12-3.2.1.jar) to constructor java.nio.DirectByteBuffer(long,int)\n",
      "WARNING: Please consider reporting this to the maintainers of org.apache.spark.unsafe.Platform\n",
      "WARNING: Use --illegal-access=warn to enable warnings of further illegal reflective access operations\n",
      "WARNING: All illegal access operations will be denied in a future release\n",
      "Using Spark's default log4j profile: org/apache/spark/log4j-defaults.properties\n",
      "Setting default log level to \"WARN\".\n",
      "To adjust logging level use sc.setLogLevel(newLevel). For SparkR, use setLogLevel(newLevel).\n",
      "23/10/10 22:47:52 WARN NativeCodeLoader: Unable to load native-hadoop library for your platform... using builtin-java classes where applicable\n"
     ]
    }
   ],
   "source": [
    "import findspark\n",
    "findspark.init('/home/ubuntu/spark-3.2.1-bin-hadoop2.7')\n",
    "import pyspark\n",
    "from pyspark.sql import SparkSession\n",
    "spark = SparkSession.builder.appName('722I4').getOrCreate()"
   ]
  },
  {
   "cell_type": "markdown",
   "id": "0a488448",
   "metadata": {},
   "source": [
    "## 02-DU "
   ]
  },
  {
   "cell_type": "code",
   "execution_count": 2,
   "id": "71fd6f3d",
   "metadata": {},
   "outputs": [],
   "source": [
    "from pyspark.sql import DataFrame"
   ]
  },
  {
   "cell_type": "code",
   "execution_count": 3,
   "id": "51ebc73f",
   "metadata": {},
   "outputs": [
    {
     "name": "stderr",
     "output_type": "stream",
     "text": [
      "\r",
      "[Stage 1:>                                                          (0 + 1) / 1]\r",
      "\r",
      "                                                                                \r"
     ]
    }
   ],
   "source": [
    "# Load Dataset\n",
    "df1 = spark.read.csv('guns_2006.csv', header=True, inferSchema=True)"
   ]
  },
  {
   "cell_type": "code",
   "execution_count": 4,
   "id": "219d9cf2",
   "metadata": {},
   "outputs": [
    {
     "name": "stdout",
     "output_type": "stream",
     "text": [
      "+----+-----+------+------+---+---+----+--------+-----+---------+\n",
      "|year|month|intent|police|sex|age|race|hispanic|place|education|\n",
      "+----+-----+------+------+---+---+----+--------+-----+---------+\n",
      "|   0|    0|     0|     0|  0|  9|   0|       0|  358|     1615|\n",
      "+----+-----+------+------+---+---+----+--------+-----+---------+\n",
      "\n"
     ]
    }
   ],
   "source": [
    "from pyspark.sql import functions as F\n",
    "from pyspark.sql.functions import sum, when\n",
    "\n",
    "# Calculate count of 'NA' for each feature\n",
    "na_counts = df1.agg(*[(sum(when(F.col(column) == \"NA\", 1).otherwise(0))).alias(column) for column in df1.columns])\n",
    "\n",
    "na_counts.show()"
   ]
  },
  {
   "cell_type": "markdown",
   "id": "fb3011ae",
   "metadata": {},
   "source": [
    "## 03-DP"
   ]
  },
  {
   "cell_type": "code",
   "execution_count": 5,
   "id": "62050fdc",
   "metadata": {},
   "outputs": [
    {
     "name": "stdout",
     "output_type": "stream",
     "text": [
      "{'White', 'Asian/Pacific Islander', 'Black', 'Hispanic', 'Native American/Native Alaskan'}\n"
     ]
    },
    {
     "name": "stderr",
     "output_type": "stream",
     "text": [
      "\r",
      "[Stage 7:>                                                          (0 + 1) / 1]\r",
      "\r",
      "                                                                                \r"
     ]
    }
   ],
   "source": [
    "distinct_races = df1.select(\"race\").distinct().rdd.flatMap(lambda x: x).collect()\n",
    "print(set(distinct_races))"
   ]
  },
  {
   "cell_type": "code",
   "execution_count": 6,
   "id": "5a0ba5ee",
   "metadata": {},
   "outputs": [
    {
     "data": {
      "image/png": "[encoded data removed]",
      "text/plain": [
       "<Figure size 432x288 with 1 Axes>"
      ]
     },
     "metadata": {
      "needs_background": "light"
     },
     "output_type": "display_data"
    }
   ],
   "source": [
    "import matplotlib.pyplot as plt\n",
    "\n",
    "hispanic_data = df1.select(\"hispanic\").rdd.flatMap(lambda x: x).collect()\n",
    "plt.hist(hispanic_data, bins=20, color='blue', alpha=0.7)\n",
    "plt.show()"
   ]
  },
  {
   "cell_type": "code",
   "execution_count": 7,
   "id": "c5aab519",
   "metadata": {},
   "outputs": [],
   "source": [
    "# Delete 'hispanic' column\n",
    "df1 = df1.drop('hispanic')"
   ]
  },
  {
   "cell_type": "code",
   "execution_count": 8,
   "id": "71429127",
   "metadata": {},
   "outputs": [],
   "source": [
    "from pyspark.sql.functions import col"
   ]
  },
  {
   "cell_type": "code",
   "execution_count": 9,
   "id": "e769a160",
   "metadata": {},
   "outputs": [],
   "source": [
    "# Convert 'NA' to null\n",
    "for column in df1.columns:\n",
    "    df1 = df1.withColumn(column, when(F.col(column) == \"NA\", None).otherwise(F.col(column)))\n",
    "\n",
    "# Drop null values\n",
    "df1 = df1.dropna()"
   ]
  },
  {
   "cell_type": "code",
   "execution_count": 10,
   "id": "9ddd3144",
   "metadata": {},
   "outputs": [],
   "source": [
    "from pyspark.sql.types import IntegerType\n",
    "\n",
    "# Delete outliers\n",
    "\n",
    "df1 = df1.withColumn(\"age\", df1[\"age\"].cast(IntegerType()))\n",
    "\n",
    "Q1 = df1.approxQuantile(\"age\", [0.25], 0)[0]\n",
    "Q3 = df1.approxQuantile(\"age\", [0.75], 0)[0]\n",
    "IQR = Q3 - Q1\n",
    "\n",
    "lower_threshold = Q1 - 1.5 * IQR\n",
    "upper_threshold = Q3 + 1.5 * IQR\n",
    "\n",
    "df1 = df1.filter((df1.age >= lower_threshold) & (df1.age <= upper_threshold))"
   ]
  },
  {
   "cell_type": "code",
   "execution_count": 11,
   "id": "e4121a2a",
   "metadata": {},
   "outputs": [],
   "source": [
    "# Drop 'Undetermined' & 'Accidental' values\n",
    "df1 = df1.filter((df1.intent != 'Undetermined') & (df1.intent != 'Accidental'))"
   ]
  },
  {
   "cell_type": "code",
   "execution_count": 12,
   "id": "295f2cb3",
   "metadata": {},
   "outputs": [],
   "source": [
    "# Repeat the Data Cleaning in each dataset\n",
    "\n",
    "def preprocess_data(filename):\n",
    "    df = spark.read.csv(filename, header=True, inferSchema=True)\n",
    "    \n",
    "    df = df.drop('hispanic')\n",
    "    \n",
    "    for column in df.columns:\n",
    "        df = df.withColumn(column, when(F.col(column) == \"NA\", None).otherwise(F.col(column)))\n",
    "\n",
    "    df = df.dropna()\n",
    "    \n",
    "    # 将 'age' 列转换为整数类型\n",
    "    df = df.withColumn(\"age\", df[\"age\"].cast(IntegerType()))\n",
    "\n",
    "    # 然后再进行分位数计算和异常值过滤\n",
    "    Q1 = df.approxQuantile(\"age\", [0.25], 0)[0]\n",
    "    Q3 = df.approxQuantile(\"age\", [0.75], 0)[0]\n",
    "    IQR = Q3 - Q1\n",
    "\n",
    "    lower_threshold = Q1 - 1.5 * IQR\n",
    "    upper_threshold = Q3 + 1.5 * IQR\n",
    "\n",
    "    df = df.filter((df.age >= lower_threshold) & (df.age <= upper_threshold))\n",
    "    \n",
    "    df = df.filter((df.intent != 'Undetermined') & (df.intent != 'Accidental'))\n",
    "    \n",
    "    return df\n",
    "\n",
    "dataframes = [df1]\n",
    "\n",
    "for i in range(2007, 2021):\n",
    "    dataframes.append(preprocess_data(f'guns_{i}.csv'))"
   ]
  },
  {
   "cell_type": "code",
   "execution_count": 13,
   "id": "0124fac0",
   "metadata": {},
   "outputs": [],
   "source": [
    "from functools import reduce\n",
    "from pyspark.sql.functions import concat, lit"
   ]
  },
  {
   "cell_type": "code",
   "execution_count": 14,
   "id": "bf1ac44a",
   "metadata": {},
   "outputs": [],
   "source": [
    "# Merge 15 datasets\n",
    "merged_df = reduce(lambda x, y: x.union(y), dataframes)\n",
    "merged_df = merged_df.drop('police')"
   ]
  },
  {
   "cell_type": "markdown",
   "id": "9514b19c",
   "metadata": {},
   "source": [
    "## 04-DT "
   ]
  },
  {
   "cell_type": "code",
   "execution_count": 15,
   "id": "efee025e",
   "metadata": {},
   "outputs": [],
   "source": [
    "# Group features\n",
    "merged_df = merged_df.withColumn(\n",
    "    \"education\",\n",
    "    when(F.col(\"education\").isin([\"BA+\", \"Some college\"]), \"High\")\n",
    "    .when(F.col(\"education\").isin([\"HS/GED\", \"Less than HS\"]), \"Low\")\n",
    "    .otherwise(F.col(\"education\"))\n",
    ")\n",
    "\n",
    "merged_df = merged_df.withColumn(\n",
    "    \"race\",\n",
    "    when(F.col(\"race\") != \"White\", \"POC\")\n",
    "    .otherwise(F.col(\"race\"))\n",
    ")\n",
    "\n",
    "merged_df = merged_df.withColumn(\n",
    "    \"place\",\n",
    "    when(F.col(\"place\") != \"Home\", \"Other\")\n",
    "    .otherwise(F.col(\"place\"))\n",
    ")"
   ]
  },
  {
   "cell_type": "code",
   "execution_count": 16,
   "id": "348d62ac",
   "metadata": {},
   "outputs": [
    {
     "name": "stderr",
     "output_type": "stream",
     "text": [
      "                                                                                \r"
     ]
    }
   ],
   "source": [
    "# Create age bins\n",
    "age_max = merged_df.agg({\"age\": \"max\"}).collect()[0][0]\n",
    "age_min = merged_df.agg({\"age\": \"min\"}).collect()[0][0]\n",
    "bin_width = (age_max - age_min) / 3\n",
    "\n",
    "merged_df = merged_df.withColumn(\n",
    "    \"age_bins\",\n",
    "    when(F.col(\"age\") <= (age_min + bin_width), \"youth\")\n",
    "    .when((F.col(\"age\") > (age_min + bin_width)) & (F.col(\"age\") <= (age_min + 2 * bin_width)), \"middle-aged\")\n",
    "    .otherwise(\"elderly\")\n",
    ")\n",
    "\n",
    "merged_df = merged_df.drop('age')"
   ]
  },
  {
   "cell_type": "markdown",
   "id": "768d6724",
   "metadata": {},
   "source": [
    "## 07-DM "
   ]
  },
  {
   "cell_type": "code",
   "execution_count": 17,
   "id": "c6d1dd96",
   "metadata": {},
   "outputs": [
    {
     "name": "stderr",
     "output_type": "stream",
     "text": [
      "                                                                                \r"
     ]
    },
    {
     "data": {
      "image/png": "[encoded data removed]",
      "text/plain": [
       "<Figure size 864x432 with 1 Axes>"
      ]
     },
     "metadata": {
      "needs_background": "light"
     },
     "output_type": "display_data"
    }
   ],
   "source": [
    "# Group by 'year' column and count\n",
    "year_counts = merged_df.groupBy('year').count().orderBy('year').collect()\n",
    "years = [row['year'] for row in year_counts]\n",
    "year_values = [row['count'] for row in year_counts]\n",
    "\n",
    "# Plot a bar chart for 'year'\n",
    "plt.figure(figsize=(12, 6))\n",
    "plt.bar(years, year_values, color='blue', alpha=0.7)\n",
    "plt.title('Counts by Year')\n",
    "plt.xlabel('Year')\n",
    "plt.ylabel('Count')\n",
    "plt.xticks(years, rotation=45)\n",
    "plt.tight_layout()\n",
    "plt.show()"
   ]
  },
  {
   "cell_type": "code",
   "execution_count": 18,
   "id": "75c8f011",
   "metadata": {},
   "outputs": [
    {
     "name": "stderr",
     "output_type": "stream",
     "text": [
      "                                                                                \r"
     ]
    },
    {
     "data": {
      "image/png": "[encoded data removed]",
      "text/plain": [
       "<Figure size 864x432 with 1 Axes>"
      ]
     },
     "metadata": {
      "needs_background": "light"
     },
     "output_type": "display_data"
    }
   ],
   "source": [
    "# Group by 'month' column and count\n",
    "month_counts = merged_df.groupBy('month').count().orderBy('month').collect()\n",
    "months = [row['month'] for row in month_counts]\n",
    "month_values = [row['count'] for row in month_counts]\n",
    "\n",
    "# Plot a bar chart for 'month'\n",
    "plt.figure(figsize=(12, 6))\n",
    "plt.bar(months, month_values, color='green', alpha=0.7)\n",
    "plt.title('Counts by Month')\n",
    "plt.xlabel('Month')\n",
    "plt.ylabel('Count')\n",
    "plt.xticks(months, rotation=45)\n",
    "plt.tight_layout()\n",
    "plt.show()"
   ]
  },
  {
   "cell_type": "code",
   "execution_count": 19,
   "id": "dfc690e3",
   "metadata": {},
   "outputs": [],
   "source": [
    "# Clustering for suicide victims\n",
    "condition = (merged_df['intent'] == 'Suicide')\n",
    "df_cluster1 = merged_df.filter(condition)\n",
    "\n",
    "df_cluster1 = df_cluster1.drop('year', 'month', 'intent')"
   ]
  },
  {
   "cell_type": "code",
   "execution_count": 20,
   "id": "30ad0b40",
   "metadata": {},
   "outputs": [
    {
     "name": "stderr",
     "output_type": "stream",
     "text": [
      "                                                                                \r"
     ]
    },
    {
     "name": "stdout",
     "output_type": "stream",
     "text": [
      "Mappings for sex: {0: 'M', 1: 'F'}\n",
      "Mappings for race: {0: 'White', 1: 'POC'}\n",
      "Mappings for place: {0: 'Home', 1: 'Other'}\n",
      "Mappings for education: {0: 'Low', 1: 'High'}\n",
      "Mappings for age_bins: {0: 'middle-aged', 1: 'youth', 2: 'elderly'}\n"
     ]
    }
   ],
   "source": [
    "# Transfer the data types of all features to integer\n",
    "\n",
    "from pyspark.ml.feature import StringIndexer\n",
    "\n",
    "indexers = {}\n",
    "\n",
    "columns_to_encode = [\"sex\", \"race\", \"place\", \"education\", \"age_bins\"]\n",
    "mappings = {}\n",
    "\n",
    "for col in columns_to_encode:\n",
    "    indexer = StringIndexer(inputCol=col, outputCol=col + \"_encoded\")\n",
    "    model = indexer.fit(df_cluster1)\n",
    "    df_cluster1 = model.transform(df_cluster1)\n",
    "    indexers[col] = model\n",
    "    mappings[col] = {index: label for index, label in enumerate(model.labels)}\n",
    "    df_cluster1 = df_cluster1.drop(col).withColumnRenamed(col + \"_encoded\", col)\n",
    "\n",
    "print(\"Mappings for sex:\", mappings['sex'])\n",
    "print(\"Mappings for race:\", mappings['race'])\n",
    "print(\"Mappings for place:\", mappings['place'])\n",
    "print(\"Mappings for education:\", mappings['education'])\n",
    "print(\"Mappings for age_bins:\", mappings['age_bins'])"
   ]
  },
  {
   "cell_type": "code",
   "execution_count": 21,
   "id": "6b4706a6",
   "metadata": {},
   "outputs": [],
   "source": [
    "from pyspark.ml.clustering import KMeans\n",
    "from pyspark.ml.linalg import Vectors\n",
    "from pyspark.ml.feature import VectorAssembler\n",
    "from pyspark.sql.functions import mean, count\n",
    "from pyspark.ml.evaluation import ClusteringEvaluator"
   ]
  },
  {
   "cell_type": "code",
   "execution_count": 22,
   "id": "95a39c28",
   "metadata": {},
   "outputs": [],
   "source": [
    "# Combine all feature columns into a single feature vector\n",
    "vec_assembler = VectorAssembler(inputCols=df_cluster1.columns, outputCol=\"features\")\n",
    "df_vec = vec_assembler.transform(df_cluster1)"
   ]
  },
  {
   "cell_type": "code",
   "execution_count": 23,
   "id": "e6c83b35",
   "metadata": {},
   "outputs": [
    {
     "name": "stderr",
     "output_type": "stream",
     "text": [
      "                                                                                \r"
     ]
    },
    {
     "data": {
      "image/png": "[encoded data removed]",
      "text/plain": [
       "<Figure size 432x288 with 1 Axes>"
      ]
     },
     "metadata": {
      "needs_background": "light"
     },
     "output_type": "display_data"
    }
   ],
   "source": [
    "# Determine the optimal k value by Silhouette Score\n",
    "k_range = range(2, 10)\n",
    "scores = []\n",
    "\n",
    "for k in k_range:\n",
    "    kmeans = KMeans().setK(k).setSeed(0)\n",
    "    model = kmeans.fit(df_vec)\n",
    "    transformed_k = model.transform(df_vec)\n",
    "    evaluator = ClusteringEvaluator()\n",
    "    silhouette = evaluator.evaluate(transformed_k)\n",
    "    scores.append(silhouette)\n",
    "\n",
    "plt.plot(k_range, scores)\n",
    "plt.xlabel('Number of Clusters (k)')\n",
    "plt.ylabel('Silhouette Score')\n",
    "plt.title('Silhouette Score vs. Number of Clusters')\n",
    "plt.show()"
   ]
  },
  {
   "cell_type": "code",
   "execution_count": 34,
   "id": "0a8e08a6",
   "metadata": {},
   "outputs": [
    {
     "name": "stderr",
     "output_type": "stream",
     "text": [
      "                                                                                \r"
     ]
    }
   ],
   "source": [
    "# Conduct K-Means Clustering\n",
    "num_clusters = 8\n",
    "kmeans = KMeans().setK(num_clusters).setSeed(0).setInitMode(\"k-means||\")\n",
    "model = kmeans.fit(df_vec)\n",
    "transformed = model.transform(df_vec)"
   ]
  },
  {
   "cell_type": "code",
   "execution_count": 35,
   "id": "1dc257cb",
   "metadata": {},
   "outputs": [
    {
     "name": "stderr",
     "output_type": "stream",
     "text": [
      "[Stage 564:===================================================>   (14 + 1) / 15]\r"
     ]
    },
    {
     "name": "stdout",
     "output_type": "stream",
     "text": [
      "+-------+------------------+------------------+------------------+------------------+------------------+----------+\n",
      "|Cluster|              Male|             White|           At Home|           Low Edu|       Middle-aged|Data Count|\n",
      "+-------+------------------+------------------+------------------+------------------+------------------+----------+\n",
      "|      1|0.9377074727550248|               1.0|               1.0|0.8866544984896517|0.8283860087312007|     93687|\n",
      "|      3|0.7158306348139549|0.3819881468809189|               1.0|0.5082788537911651|               0.0|     16367|\n",
      "|      4|0.7434671136968741|               0.0|0.5238635243072676|0.7702396213391184|               1.0|     20282|\n",
      "|      2|0.5513744594124372|0.2725058408311378|               0.0|0.5823432917433017|               0.0|     20117|\n",
      "|      0|  0.87880496054115|               1.0|               0.0|0.8779081684944142|0.7804653069591063|     39028|\n",
      "+-------+------------------+------------------+------------------+------------------+------------------+----------+\n",
      "\n"
     ]
    },
    {
     "name": "stderr",
     "output_type": "stream",
     "text": [
      "\r",
      "                                                                                \r"
     ]
    }
   ],
   "source": [
    "from pyspark.sql.functions import col\n",
    "\n",
    "# Calculate the feature distributions of each cluster\n",
    "cluster_summary = transformed.groupBy(\"prediction\").agg(\n",
    "    mean(1 - col(\"sex\")).alias(\"Male\"),\n",
    "    mean(1 - col(\"race\")).alias(\"White\"),\n",
    "    mean(1 - col(\"place\")).alias(\"At Home\"),\n",
    "    mean(1 - col(\"education\")).alias(\"Low Edu\"),\n",
    "    mean(when(col(\"age_bins\") == 0, 1).otherwise(0)).alias(\"Middle-aged\"),\n",
    "    count(\"*\").alias(\"Data Count\")\n",
    ")\n",
    "\n",
    "cluster_summary = cluster_summary.withColumnRenamed(\"prediction\", \"Cluster\")\n",
    "\n",
    "cluster_summary.show()"
   ]
  },
  {
   "cell_type": "code",
   "execution_count": 26,
   "id": "d2d5e123",
   "metadata": {},
   "outputs": [
    {
     "name": "stderr",
     "output_type": "stream",
     "text": [
      "[Stage 304:===================================================>   (14 + 1) / 15]\r"
     ]
    },
    {
     "name": "stdout",
     "output_type": "stream",
     "text": [
      "Silhouette Score: 0.5682082524015103\n"
     ]
    },
    {
     "name": "stderr",
     "output_type": "stream",
     "text": [
      "\r",
      "                                                                                \r"
     ]
    }
   ],
   "source": [
    "# Calculate Silhouette Score\n",
    "evaluator = ClusteringEvaluator(featuresCol=\"features\")\n",
    "silhouette = evaluator.evaluate(transformed)\n",
    "print(\"Silhouette Score:\", silhouette)"
   ]
  },
  {
   "cell_type": "code",
   "execution_count": 27,
   "id": "074de259",
   "metadata": {},
   "outputs": [],
   "source": [
    "# Clustering for homicide victims\n",
    "condition = (merged_df['intent'] == 'Homicide')\n",
    "df_cluster2 = merged_df.filter(condition)\n",
    "\n",
    "df_cluster2 = df_cluster2.drop('year', 'month', 'intent')"
   ]
  },
  {
   "cell_type": "code",
   "execution_count": 28,
   "id": "2d31eaff",
   "metadata": {},
   "outputs": [
    {
     "name": "stderr",
     "output_type": "stream",
     "text": [
      "                                                                                \r"
     ]
    },
    {
     "name": "stdout",
     "output_type": "stream",
     "text": [
      "Mappings for sex: {0: 'M', 1: 'F'}\n",
      "Mappings for race: {0: 'POC', 1: 'White'}\n",
      "Mappings for place: {0: 'Other', 1: 'Home'}\n",
      "Mappings for education: {0: 'Low', 1: 'High'}\n",
      "Mappings for age_bins: {0: 'youth', 1: 'middle-aged', 2: 'elderly'}\n"
     ]
    }
   ],
   "source": [
    "indexers = {}\n",
    "\n",
    "columns_to_encode = [\"sex\", \"race\", \"place\", \"education\", \"age_bins\"]\n",
    "mappings = {}\n",
    "\n",
    "for col in columns_to_encode:\n",
    "    indexer = StringIndexer(inputCol=col, outputCol=col + \"_encoded\")\n",
    "    model = indexer.fit(df_cluster2)\n",
    "    df_cluster2 = model.transform(df_cluster2)\n",
    "    indexers[col] = model\n",
    "    mappings[col] = {index: label for index, label in enumerate(model.labels)}\n",
    "    df_cluster2 = df_cluster2.drop(col).withColumnRenamed(col + \"_encoded\", col)\n",
    "\n",
    "print(\"Mappings for sex:\", mappings['sex'])\n",
    "print(\"Mappings for race:\", mappings['race'])\n",
    "print(\"Mappings for place:\", mappings['place'])\n",
    "print(\"Mappings for education:\", mappings['education'])\n",
    "print(\"Mappings for age_bins:\", mappings['age_bins'])"
   ]
  },
  {
   "cell_type": "code",
   "execution_count": 29,
   "id": "19d9bc8c",
   "metadata": {},
   "outputs": [],
   "source": [
    "vec_assembler = VectorAssembler(inputCols=df_cluster2.columns, outputCol=\"features\")\n",
    "df_vec = vec_assembler.transform(df_cluster2)"
   ]
  },
  {
   "cell_type": "code",
   "execution_count": 30,
   "id": "459340e5",
   "metadata": {},
   "outputs": [
    {
     "name": "stderr",
     "output_type": "stream",
     "text": [
      "                                                                                \r"
     ]
    },
    {
     "data": {
      "image/png": "[encoded data removed]",
      "text/plain": [
       "<Figure size 432x288 with 1 Axes>"
      ]
     },
     "metadata": {
      "needs_background": "light"
     },
     "output_type": "display_data"
    }
   ],
   "source": [
    "# Determine the optimal k value by Silhouette Score\n",
    "k_range = range(2, 10)\n",
    "scores = []\n",
    "\n",
    "for k in k_range:\n",
    "    kmeans = KMeans().setK(k).setSeed(0)\n",
    "    model = kmeans.fit(df_vec)\n",
    "    transformed_k = model.transform(df_vec)\n",
    "    evaluator = ClusteringEvaluator()\n",
    "    silhouette = evaluator.evaluate(transformed_k)\n",
    "    scores.append(silhouette)\n",
    "\n",
    "plt.plot(k_range, scores)\n",
    "plt.xlabel('Number of Clusters (k)')\n",
    "plt.ylabel('Silhouette Score')\n",
    "plt.title('Silhouette Score vs. Number of Clusters')\n",
    "plt.show()"
   ]
  },
  {
   "cell_type": "code",
   "execution_count": 36,
   "id": "dbfacc8e",
   "metadata": {},
   "outputs": [
    {
     "name": "stderr",
     "output_type": "stream",
     "text": [
      "                                                                                \r"
     ]
    }
   ],
   "source": [
    "# Conduct K-Means Clustering\n",
    "num_clusters = 9\n",
    "kmeans = KMeans().setK(num_clusters).setSeed(0).setInitMode(\"k-means||\")\n",
    "model = kmeans.fit(df_vec)\n",
    "transformed = model.transform(df_vec)"
   ]
  },
  {
   "cell_type": "code",
   "execution_count": 37,
   "id": "603a6eb1",
   "metadata": {},
   "outputs": [
    {
     "name": "stderr",
     "output_type": "stream",
     "text": [
      "[Stage 590:============================================>          (12 + 2) / 15]\r"
     ]
    },
    {
     "name": "stdout",
     "output_type": "stream",
     "text": [
      "+-------+------------------+------------------+-------------------+------------------+-------------------+----------+\n",
      "|Cluster|              Male|               POC|        Other Place|           Low Edu|              Youth|Data Count|\n",
      "+-------+------------------+------------------+-------------------+------------------+-------------------+----------+\n",
      "|      1|               1.0|               1.0| 0.7361106837738326| 0.870742438694194|                1.0|     97503|\n",
      "|      3| 0.523187555033754|0.2991634869386557|0.31163780452010564|               0.0|0.07183739360140887|     13628|\n",
      "|      5|               0.0|               1.0| 0.5523376869203104|0.7367972742759795|                1.0|     10566|\n",
      "|      4| 0.737464872060346|0.5298525859093822|                0.0|               1.0|                0.0|     20283|\n",
      "|      2|0.7811739107910688|               0.0| 0.5504325752473709|0.8093042532248873|                1.0|     19303|\n",
      "|      0|0.8995673452017874|0.7644513795304632|                1.0|0.8652032059011278|                0.0|     28198|\n",
      "+-------+------------------+------------------+-------------------+------------------+-------------------+----------+\n",
      "\n"
     ]
    },
    {
     "name": "stderr",
     "output_type": "stream",
     "text": [
      "\r",
      "                                                                                \r"
     ]
    }
   ],
   "source": [
    "from pyspark.sql.functions import col\n",
    "\n",
    "# Calculate the feature distributions of each cluster\n",
    "cluster_summary = transformed.groupBy(\"prediction\").agg(\n",
    "    mean(1 - col(\"sex\")).alias(\"Male\"),\n",
    "    mean(1 - col(\"race\")).alias(\"POC\"),\n",
    "    mean(1 - col(\"place\")).alias(\"Other Place\"),\n",
    "    mean(1 - col(\"education\")).alias(\"Low Edu\"),\n",
    "    mean(when(col(\"age_bins\") == 0, 1).otherwise(0)).alias(\"Youth\"),\n",
    "    count(\"*\").alias(\"Data Count\")\n",
    ")\n",
    "\n",
    "cluster_summary = cluster_summary.withColumnRenamed(\"prediction\", \"Cluster\")\n",
    "\n",
    "cluster_summary.show()"
   ]
  },
  {
   "cell_type": "code",
   "execution_count": 33,
   "id": "c8405208",
   "metadata": {},
   "outputs": [
    {
     "name": "stderr",
     "output_type": "stream",
     "text": [
      "[Stage 540:===================================================>   (14 + 1) / 15]\r"
     ]
    },
    {
     "name": "stdout",
     "output_type": "stream",
     "text": [
      "Silhouette Score: 0.6479853936880831\n"
     ]
    },
    {
     "name": "stderr",
     "output_type": "stream",
     "text": [
      "\r",
      "                                                                                \r"
     ]
    }
   ],
   "source": [
    "# Calculate Silhouette Score\n",
    "evaluator = ClusteringEvaluator(featuresCol=\"features\")\n",
    "silhouette = evaluator.evaluate(transformed)\n",
    "print(\"Silhouette Score:\", silhouette)"
   ]
  }
 ],
 "metadata": {
  "kernelspec": {
   "display_name": "Python 3 (ipykernel)",
   "language": "python",
   "name": "python3"
  },
  "language_info": {
   "codemirror_mode": {
    "name": "ipython",
    "version": 3
   },
   "file_extension": ".py",
   "mimetype": "text/x-python",
   "name": "python",
   "nbconvert_exporter": "python",
   "pygments_lexer": "ipython3",
   "version": "3.10.4"
  }
 },
 "nbformat": 4,
 "nbformat_minor": 5
}
